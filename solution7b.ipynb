{
 "cells": [
  {
   "cell_type": "markdown",
   "metadata": {},
   "source": [
    "The following is Dijkstra's algorithm. "
   ]
  },
  {
   "cell_type": "code",
   "execution_count": 1,
   "metadata": {},
   "outputs": [],
   "source": [
    "import math\n",
    "# CHATGPT: Give Python code to find the distance to all nodes from a starting node. \n",
    "# The input is a dictionary with nodes as keys and list of connected nodes as values. \n",
    "import heapq\n",
    "def dijkstra(graph, start):\n",
    "    distances = {node: float('inf') for node in graph}\n",
    "    distances[start] = 0\n",
    "    priority_queue = [(0, start)]\n",
    "    while priority_queue:\n",
    "        current_distance, current_node = heapq.heappop(priority_queue)\n",
    "        if current_distance > distances[current_node]: continue\n",
    "        for neighbor in graph[current_node]:\n",
    "            distance = current_distance + 1\n",
    "            if distance < distances[neighbor]:\n",
    "                distances[neighbor] = distance\n",
    "                heapq.heappush(priority_queue, (distance, neighbor))\n",
    "    return distances"
   ]
  },
  {
   "cell_type": "markdown",
   "metadata": {},
   "source": [
    "Set to test mode:"
   ]
  },
  {
   "cell_type": "code",
   "execution_count": 3,
   "metadata": {},
   "outputs": [],
   "source": [
    "small = False"
   ]
  },
  {
   "cell_type": "markdown",
   "metadata": {},
   "source": [
    "Load data and build graph. "
   ]
  },
  {
   "cell_type": "code",
   "execution_count": 4,
   "metadata": {},
   "outputs": [],
   "source": [
    "with open('input7' + ('A' if small else 'B') + '.txt', 'r') as i:\n",
    "    data = list(list(line.strip()) for line in i.readlines())\n",
    "    M = 5000 if small else 26501365 # is het aantal stappen\n",
    "\n",
    "h = len(data)\n",
    "w = len(data[0])\n",
    "assert(w == h)\n",
    "\n",
    "graph = {}\n",
    "\n",
    "enc = lambda y, x: x * h + y\n",
    "dec = lambda v: [v % h, v // h]\n",
    "ends = []\n",
    "for y in range(h):\n",
    "    for x in range(w):\n",
    "        l = []\n",
    "        if data[y][x] in '.S':\n",
    "            if data[y][x] == 'S': start = enc(y, x)\n",
    "            if y >     0 and data[y - 1][x] in '.S': l += [enc(y - 1, x)]\n",
    "            if y < h - 1 and data[y + 1][x] in '.S': l += [enc(y + 1, x)]\n",
    "            if x >     0 and data[y][x - 1] in '.S': l += [enc(y, x - 1)]\n",
    "            if x < w - 1 and data[y][x + 1] in '.S': l += [enc(y, x + 1)]\n",
    "            graph[enc(y, x)] = l\n",
    "\n",
    "nodes = set(graph.keys())"
   ]
  },
  {
   "cell_type": "code",
   "execution_count": 5,
   "metadata": {},
   "outputs": [],
   "source": [
    "hoekjes = [\n",
    "    enc(0, 0), # lower-right\n",
    "    enc(h - 1, 0), # upper right\n",
    "    enc(h - 1, w - 1), # upper left\n",
    "    enc(0, w - 1), # lower left\n",
    "]\n",
    "kantjes = [\n",
    "    enc(0, w // 2), \n",
    "    enc(h - 1, w // 2), \n",
    "    enc(h // 2, 0), \n",
    "    enc(h // 2, w - 1)\n",
    "]\n",
    "def omgekeerd(e):\n",
    "    x, y = dec(e)\n",
    "    return enc(w - 1 - x, w - 1 - y)\n",
    "def paar_afstand(e):\n",
    "    x, y = dec(e)\n",
    "    x2, y2 = dec(omgekeerd(e))\n",
    "    return int(x == x2) + int(y == y2)"
   ]
  },
  {
   "cell_type": "code",
   "execution_count": 6,
   "metadata": {},
   "outputs": [],
   "source": [
    "count = lambda start, max_step=math.inf: len([key \n",
    "                                              for key, val in dijkstra(graph, start).items()\n",
    "                                              if val <= max_step and \n",
    "                                                 ((max_step if max_step != math.inf else 0) - val) % 2 == 0])"
   ]
  },
  {
   "cell_type": "code",
   "execution_count": 7,
   "metadata": {},
   "outputs": [
    {
     "name": "stdout",
     "output_type": "stream",
     "text": [
      "(14677, 14669)\n",
      "[[2, 29], [3, 88], [24, 63], [31, 89], [32, 88], [32, 89], [33, 20], [115, 90]]\n"
     ]
    }
   ],
   "source": [
    "aantal_per_blok_totaal = len(list(1 for row in data for item in row if item in 'S.'))\n",
    "print((aantal_per_blok_totaal, count(start) + count(start, 100001)))\n",
    "print([dec(key) for key, val in dijkstra(graph, start).items() if val == math.inf and data[dec(key)[0]][dec(key)[1]] != \"#\"])"
   ]
  },
  {
   "cell_type": "code",
   "execution_count": 8,
   "metadata": {},
   "outputs": [],
   "source": [
    "odd = lambda x: ((x - 1) // 2) * 2 + 1\n",
    "even = lambda x: (x // 2) * 2\n",
    "sum_odd_numbers = lambda max: (odd(max) + 1) ** 2 // 4\n",
    "sum_even_numbers = lambda max: even(max) * (even(max) + 2) // 4\n",
    "sum_numbers = lambda max, sign: sum_odd_numbers(max) if sign == 1 else sum_even_numbers(max)\n",
    "assert(sum_even_numbers(11) == 2 + 4 + 6 + 8 + 10)\n",
    "assert(sum_odd_numbers(11) == 1 + 3 + 5 + 7 + 9 + 11)"
   ]
  },
  {
   "cell_type": "code",
   "execution_count": 15,
   "metadata": {},
   "outputs": [
    {
     "name": "stdout",
     "output_type": "stream",
     "text": [
      "202297\n",
      "2.50381679389313\n",
      "150079558378723\n",
      "202297\n",
      "2.50381679389313\n",
      "150079558378723\n",
      "202297\n",
      "2.50381679389313\n",
      "150079558378723\n",
      "202297\n",
      "2.50381679389313\n",
      "150079558378723\n",
      "202298\n",
      "1.9923664122137406\n",
      "1483754681\n",
      "202298\n",
      "1.9923664122137406\n",
      "1483754681\n",
      "202298\n",
      "1.9923664122137406\n",
      "1483754681\n",
      "202298\n",
      "1.9923664122137406\n",
      "1483754681\n"
     ]
    }
   ],
   "source": [
    "center = count(start, M)\n",
    "def chunk(start0, aantallen):\n",
    "    L = max(filter(lambda x: x != float('inf'), dijkstra(graph, start0).values())) # is 2 * (w - 1) for hoekjes\n",
    "    K = dijkstra(graph, start)[omgekeerd(start0)] + paar_afstand(start0) # 2 als hoekje, 1 als kantje, moet 66 bij kantjes zijn\n",
    "    k = math.floor((M - K - L) / w)\n",
    "    #print(L)\n",
    "    #print(K)\n",
    "    #print((M - K - L) / w)\n",
    "    print(k)\n",
    "    print(((M - K) - k * w) / w)\n",
    "\n",
    "    start_parity = K % 2\n",
    "    volledig_gevuld = (aantallen(k)[0] * count(start0, L + start_parity) + \n",
    "                    aantallen(k)[1] * count(start0, L + (1 - start_parity))) # onafhankelijk van hoekje\n",
    "    print(volledig_gevuld)\n",
    "    extra1 = aantallen(k)[2] * count(start0, M - K - (k + 1) * w)\n",
    "    extra2 = aantallen(k)[3] * count(start0, M - K - (k + 2) * w)\n",
    "    return [volledig_gevuld, extra1, extra2]\n",
    "\n",
    "\n",
    "c = sum([sum(chunk(hoekje, lambda k: [sum_numbers(k, 0), sum_numbers(k, 1), (k + 1), (k + 2)])) for hoekje in hoekjes])\n",
    "a = sum([sum(chunk(kantje, lambda k: [k - (k // 2), k // 2, 1, 1])) for kantje in kantjes]) # not assuming K is odd\n",
    "\n",
    "totaal = center + c + a\n"
   ]
  },
  {
   "cell_type": "code",
   "execution_count": 16,
   "metadata": {},
   "outputs": [
    {
     "data": {
      "text/plain": [
       "600330215658769"
      ]
     },
     "execution_count": 16,
     "metadata": {},
     "output_type": "execute_result"
    }
   ],
   "source": [
    "totaal"
   ]
  },
  {
   "cell_type": "code",
   "execution_count": null,
   "metadata": {},
   "outputs": [],
   "source": [
    "# 600336166486629\n",
    "# 600330215658769"
   ]
  }
 ],
 "metadata": {
  "kernelspec": {
   "display_name": "Python 3",
   "language": "python",
   "name": "python3"
  },
  "language_info": {
   "codemirror_mode": {
    "name": "ipython",
    "version": 3
   },
   "file_extension": ".py",
   "mimetype": "text/x-python",
   "name": "python",
   "nbconvert_exporter": "python",
   "pygments_lexer": "ipython3",
   "version": "3.11.5"
  }
 },
 "nbformat": 4,
 "nbformat_minor": 2
}
