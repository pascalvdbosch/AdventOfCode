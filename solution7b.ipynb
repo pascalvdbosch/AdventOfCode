{
 "cells": [
  {
   "cell_type": "markdown",
   "metadata": {},
   "source": []
  },
  {
   "cell_type": "code",
   "execution_count": 58,
   "metadata": {},
   "outputs": [],
   "source": [
    "small = False\n",
    "\n",
    "M = 5000 if small else 26501365 # is het aantal stappen"
   ]
  },
  {
   "cell_type": "code",
   "execution_count": 131,
   "metadata": {},
   "outputs": [],
   "source": [
    "with open('input7' + ('A' if small else 'B') + '.txt', 'r') as i:\n",
    "    data = list(list(line.strip()) for line in i.readlines())\n",
    "\n",
    "h = len(data)\n",
    "w = len(data[0])\n",
    "\n",
    "graph = {}\n",
    "\n",
    "def enc(y, x):\n",
    "    return x * h + y\n",
    "def dec(v):\n",
    "    return [v % h, v // h]\n",
    "ends = []\n",
    "for y in range(h):\n",
    "    for x in range(w):\n",
    "        l = []\n",
    "        if data[y][x] in '.S':\n",
    "            if data[y][x] == 'S': start = enc(y, x)\n",
    "            if y >     0 and data[y - 1][x] in '.S': l += [enc(y - 1, x)]\n",
    "            if y < h - 1 and data[y + 1][x] in '.S': l += [enc(y + 1, x)]\n",
    "            if x >     0 and data[y][x - 1] in '.S': l += [enc(y, x - 1)]\n",
    "            if x < w - 1 and data[y][x + 1] in '.S': l += [enc(y, x + 1)]\n",
    "            graph[enc(y, x)] = l\n",
    "\n",
    "nodes = set(graph.keys())\n",
    "\n",
    "# CHATGPT: Give Python code to find the distance to all nodes from a starting node. \n",
    "# The input is a dictionary with nodes as keys and list of connected nodes as values. \n",
    "import heapq\n",
    "def dijkstra(graph, start):\n",
    "    distances = {node: float('inf') for node in graph}\n",
    "    distances[start] = 0\n",
    "    priority_queue = [(0, start)]\n",
    "    while priority_queue:\n",
    "        current_distance, current_node = heapq.heappop(priority_queue)\n",
    "        if current_distance > distances[current_node]: continue\n",
    "        for neighbor in graph[current_node]:\n",
    "            distance = current_distance + 1\n",
    "            if distance < distances[neighbor]:\n",
    "                distances[neighbor] = distance\n",
    "                heapq.heappush(priority_queue, (distance, neighbor))\n",
    "    return distances"
   ]
  },
  {
   "cell_type": "markdown",
   "metadata": {},
   "source": [
    "\n",
    "\n",
    "50 / 10 = ongeveer radius van 5 \n",
    "\n",
    "Doe eerst een kwart, zonder randen. \n",
    "Stel het kost K=132 om tot het hoekje te komen. \n",
    "Stel het kost S=131 om een stap naar het volgende blokje te doen (=breedte van blokje)\n",
    "Stel het kost L (<2*S?) om het verste puntje te vinden in het blokje\n",
    "\n",
    "Vind k integer z.d.d. M >= K + k * S + L, dan is het aantal volledige blokjes gelijk aan het aantal blokjes bereikbaar in k stappen\n",
    "Dus k = floor((M - K - L) / S). \n",
    "Hoeveel paren (x,y) voldoen aan x + y <= k. Dat is niet moeilijk. \n",
    "Hoeveel paren (x,y) voldoen aan k < x + y < k + L / S"
   ]
  },
  {
   "cell_type": "code",
   "execution_count": 166,
   "metadata": {},
   "outputs": [
    {
     "name": "stdout",
     "output_type": "stream",
     "text": [
      "131\n"
     ]
    }
   ],
   "source": [
    "richting = 0 # lower-right\n",
    "hoekjes = {\n",
    "    0: [0, 0], # lower-right\n",
    "    1: [h - 1, 0], # upper right\n",
    "    2: [0, w - 1], # lower left\n",
    "    3: [h - 1, w - 1], # upper left\n",
    "}\n",
    "hoekje_omgekeerd = lambda hoekje_nr: {0: 3, 1: 2, 2: 1, 3: 0}[hoekje_nr]\n",
    "assert(w == h)\n",
    "S = w\n",
    "print(S)"
   ]
  },
  {
   "cell_type": "code",
   "execution_count": 61,
   "metadata": {},
   "outputs": [],
   "source": [
    "L = 2 * (S - 1)\n",
    "for hoekje in hoekjes.values():\n",
    "    assert(max(filter(lambda x: x != float('inf'), dijkstra(graph, enc(*hoekje)).values())) == L)"
   ]
  },
  {
   "cell_type": "code",
   "execution_count": 148,
   "metadata": {},
   "outputs": [
    {
     "name": "stdout",
     "output_type": "stream",
     "text": [
      "202297.5038167939\n",
      "202297\n",
      "2.4885496183206106\n"
     ]
    }
   ],
   "source": [
    "import math\n",
    "k = math.floor((M - K - L) / S)\n",
    "print((M - K - L) / S)\n",
    "print(k)\n",
    "print(((M - K) - k * S) / S)"
   ]
  },
  {
   "cell_type": "code",
   "execution_count": 149,
   "metadata": {},
   "outputs": [
    {
     "name": "stdout",
     "output_type": "stream",
     "text": [
      "14677\n"
     ]
    }
   ],
   "source": [
    "aantal_per_blok_totaal = len(list(1 for row in data for item in row if item in 'S.'))\n",
    "print(aantal_per_blok_totaal)"
   ]
  },
  {
   "cell_type": "code",
   "execution_count": 74,
   "metadata": {},
   "outputs": [],
   "source": [
    "import math\n",
    "count = lambda start, max_step=math.inf: len([key for key, val in dijkstra(graph, start).items() if val <= max_step and ((max_step if max_step != math.inf else 0) - val) % 2 == 0])"
   ]
  },
  {
   "cell_type": "code",
   "execution_count": 85,
   "metadata": {},
   "outputs": [
    {
     "data": {
      "text/plain": [
       "7315"
      ]
     },
     "execution_count": 85,
     "metadata": {},
     "output_type": "execute_result"
    }
   ],
   "source": []
  },
  {
   "cell_type": "code",
   "execution_count": 113,
   "metadata": {},
   "outputs": [],
   "source": [
    "odd = lambda x: ((x - 1) // 2) * 2 + 1\n",
    "even = lambda x: (x // 2) * 2\n",
    "sum_odd_numbers = lambda max: ((odd(max) // 2) + 1) ** 2\n",
    "sum_even_numbers = lambda max: even(max) * (even(max) + 2) // 4\n",
    "sum_numbers = lambda max, sign: sum_odd_numbers(max) if sign == 1 else sum_even_numbers(max)"
   ]
  },
  {
   "cell_type": "code",
   "execution_count": 158,
   "metadata": {},
   "outputs": [
    {
     "data": {
      "text/plain": [
       "202297"
      ]
     },
     "execution_count": 158,
     "metadata": {},
     "output_type": "execute_result"
    }
   ],
   "source": [
    "k"
   ]
  },
  {
   "cell_type": "code",
   "execution_count": 170,
   "metadata": {},
   "outputs": [],
   "source": [
    "center = count(start, M)\n",
    "def chunk(K, start, aantallen):\n",
    "    start_parity = K % 2\n",
    "    volledig_gevuld = (aantallen[0] * count(enc(*start), L + start_parity) + \n",
    "                    aantallen[1] * count(enc(*start), L + (1 - start_parity))) # onafhankelijk van hoekje\n",
    "    extra1 = aantallen[2] * count(enc(*hoekjes[0]), M - K - (k + 1) * S)\n",
    "    extra2 = aantallen[3] * count(enc(*hoekjes[0]), M - K - (k + 2) * S)\n",
    "    return [volledig_gevuld, extra1, extra2]\n",
    "\n",
    "\n",
    "c = sum([sum(chunk(dijkstra(graph, start)[enc(*hoekjes[hoekje_omgekeerd(hoekje_nr)])] + 2, hoekjes[hoekje_nr], [sum_numbers(k, 0), sum_numbers(k, 1), (k + 1), (k + 2)])) for hoekje_nr in range(4)])\n",
    "a = sum([sum(chunk(66, p, [k - (k // 2), k // 2, (k + 1), (k + 2)])) for p in [[0, w // 2], [h - 1, w // 2], [h // 2, 0], [h // 2, w - 1]]]) # not assuming K is odd\n",
    "\n",
    "totaal = center + c + a\n"
   ]
  },
  {
   "cell_type": "code",
   "execution_count": 171,
   "metadata": {},
   "outputs": [
    {
     "data": {
      "text/plain": [
       "600339047143451"
      ]
     },
     "execution_count": 171,
     "metadata": {},
     "output_type": "execute_result"
    }
   ],
   "source": [
    "totaal"
   ]
  },
  {
   "cell_type": "code",
   "execution_count": null,
   "metadata": {},
   "outputs": [],
   "source": []
  }
 ],
 "metadata": {
  "kernelspec": {
   "display_name": "Python 3",
   "language": "python",
   "name": "python3"
  },
  "language_info": {
   "codemirror_mode": {
    "name": "ipython",
    "version": 3
   },
   "file_extension": ".py",
   "mimetype": "text/x-python",
   "name": "python",
   "nbconvert_exporter": "python",
   "pygments_lexer": "ipython3",
   "version": "3.11.5"
  }
 },
 "nbformat": 4,
 "nbformat_minor": 2
}
