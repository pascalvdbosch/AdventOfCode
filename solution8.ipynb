{
 "cells": [
  {
   "cell_type": "code",
   "execution_count": 43,
   "metadata": {},
   "outputs": [],
   "source": [
    "with open('input8.txt', 'r') as i:\n",
    "    bricks = list(list(tuple(int(y) for y in x.split(\",\")) for x in line.strip().split('~')) for line in i.readlines())\n",
    "zmax = max(z for brick in bricks for z in [brick[0][2], brick[1][2]]) + 1\n",
    "data = list(list(list(None for z in range(zmax)) for y in range(10)) for x in range(10))\n",
    "orientation = lambda b: -1 if b[0] == b[1] else [d for d in range(3) if b[0][d] != b[1][d]][0] \n",
    "def coords(b):\n",
    "    o = orientation(b)\n",
    "    if o == -1: o = 0\n",
    "    return list(tuple(i if ii == o else b[0][ii] for ii in range(3)) for i in range(b[0][o], b[1][o] + 1))\n",
    "\n",
    "def remove(brick):\n",
    "    for x, y, z in coords(brick): \n",
    "        if data[x][y][z] is None: raise \"Error2\"\n",
    "        data[x][y][z] = None\n",
    "def add(brick):\n",
    "    for x, y, z in coords(brick): \n",
    "        if data[x][y][z] is not None: raise \"Error1\"\n",
    "        data[x][y][z] = brick\n",
    "\n",
    "for brick in bricks:\n",
    "    add(brick)"
   ]
  },
  {
   "cell_type": "code",
   "execution_count": 44,
   "metadata": {},
   "outputs": [],
   "source": [
    "# def collide(b1, b2):\n",
    "#     return len(set(coords(b1)).intersection(set(coords(b2)))) > 0\n",
    "\n",
    "bottom = lambda brick: min(brick[0][2], brick[1][2])\n",
    "\n",
    "lower_coord = lambda coord: (coord[0], coord[1], coord[2] - 1)\n",
    "lower_brick = lambda brick: [lower_coord(brick[0]), \n",
    "                             lower_coord(brick[1])]\n",
    "\n",
    "can_lower = lambda brick: bottom(brick) > 1 and all(data[x][y][z] is None for x, y, z in coords(lower_brick(brick)))\n",
    "\n",
    "succes = True\n",
    "while succes:# for brick in sorted(bricks, key=lambda brick: bottom(brick)):\n",
    "    succes = False\n",
    "    for brick in bricks:\n",
    "        while can_lower(brick):\n",
    "            succes = True\n",
    "            remove(brick)\n",
    "            brick[0] = lower_coord(brick[0])\n",
    "            brick[1] = lower_coord(brick[1])\n",
    "            add(brick)\n",
    "# print(list(brick for brick in bricks if can_lower(brick)))\n",
    "# print(sorted(bricks, key=lambda brick: bottom(brick)))\n",
    "# assert(all(not can_lower(brick) for brick in bricks))"
   ]
  },
  {
   "cell_type": "code",
   "execution_count": 45,
   "metadata": {},
   "outputs": [
    {
     "name": "stdout",
     "output_type": "stream",
     "text": [
      "c:  443\n"
     ]
    }
   ],
   "source": [
    "c = 0\n",
    "for removing in bricks:\n",
    "    remove(removing)\n",
    "    safe = True\n",
    "    for lowering in bricks:\n",
    "        if lowering == removing: continue\n",
    "        if can_lower(lowering):\n",
    "            safe = False\n",
    "            break\n",
    "    if safe: \n",
    "        c += 1\n",
    "        # print(removing)\n",
    "    add(removing)\n",
    "print(\"c: \", c)"
   ]
  },
  {
   "cell_type": "code",
   "execution_count": 29,
   "metadata": {},
   "outputs": [
    {
     "data": {
      "text/plain": [
       "1205"
      ]
     },
     "execution_count": 29,
     "metadata": {},
     "output_type": "execute_result"
    }
   ],
   "source": [
    "len(bricks)"
   ]
  },
  {
   "cell_type": "code",
   "execution_count": null,
   "metadata": {},
   "outputs": [],
   "source": []
  }
 ],
 "metadata": {
  "kernelspec": {
   "display_name": "Python 3",
   "language": "python",
   "name": "python3"
  },
  "language_info": {
   "codemirror_mode": {
    "name": "ipython",
    "version": 3
   },
   "file_extension": ".py",
   "mimetype": "text/x-python",
   "name": "python",
   "nbconvert_exporter": "python",
   "pygments_lexer": "ipython3",
   "version": "3.11.5"
  }
 },
 "nbformat": 4,
 "nbformat_minor": 2
}
